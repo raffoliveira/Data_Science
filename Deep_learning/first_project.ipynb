{
 "cells": [
  {
   "cell_type": "code",
   "execution_count": 2,
   "metadata": {},
   "outputs": [],
   "source": [
    "from numpy import loadtxt\n",
    "from keras.models import Sequential\n",
    "from keras.layers import Dense"
   ]
  },
  {
   "cell_type": "markdown",
   "metadata": {},
   "source": [
    "### Load data"
   ]
  },
  {
   "cell_type": "markdown",
   "metadata": {},
   "source": [
    "#### The data has 9 attributes (all numeric-valued):\n",
    "+ Number of times pregnant\n",
    "+ Plasma glucose concentration a 2 hours in an oral glucose tolerance test\n",
    "+ Diastolic blood pressure (mm Hg)\n",
    "+ Triceps skin fold thickness (mm)\n",
    "+ 2-Hour serum insulin (mu U/ml)\n",
    "+ Body mass index (weight in kg/(height in m)^2)\n",
    "+ Diabetes pedigree function\n",
    "+ Age (years)\n",
    "+ Class variable (0 or 1)\n"
   ]
  },
  {
   "cell_type": "code",
   "execution_count": 4,
   "metadata": {},
   "outputs": [],
   "source": [
    "dataset = loadtxt('https://raw.githubusercontent.com/raffoliveira/Data_science/main/Datasets/pima-indians-diabetes.data.csv', delimiter=',')"
   ]
  },
  {
   "cell_type": "code",
   "execution_count": 6,
   "metadata": {},
   "outputs": [
    {
     "data": {
      "text/plain": [
       "array([[  6.   , 148.   ,  72.   , ...,   0.627,  50.   ,   1.   ],\n",
       "       [  1.   ,  85.   ,  66.   , ...,   0.351,  31.   ,   0.   ],\n",
       "       [  8.   , 183.   ,  64.   , ...,   0.672,  32.   ,   1.   ],\n",
       "       ...,\n",
       "       [  5.   , 121.   ,  72.   , ...,   0.245,  30.   ,   0.   ],\n",
       "       [  1.   , 126.   ,  60.   , ...,   0.349,  47.   ,   1.   ],\n",
       "       [  1.   ,  93.   ,  70.   , ...,   0.315,  23.   ,   0.   ]])"
      ]
     },
     "execution_count": 6,
     "metadata": {},
     "output_type": "execute_result"
    }
   ],
   "source": [
    "dataset"
   ]
  },
  {
   "cell_type": "code",
   "execution_count": 8,
   "metadata": {},
   "outputs": [],
   "source": [
    "X = dataset[:,0:8]\n",
    "y = dataset[:,8]"
   ]
  },
  {
   "cell_type": "markdown",
   "metadata": {},
   "source": [
    "### Define Keras model\n",
    "\n",
    "##### The first layer has the right number of input features (argument **input_dim**)\n",
    "\n",
    "##### To choose the number of layer is very hard question. Generally, we need a network large enough to capture the structure of the problem\n",
    "\n",
    "##### In this example we will use a fully-connected network with three layers\n",
    "\n",
    "##### We use Dense class to define fully-connected newtwork\n",
    "\n",
    "##### The declaration is:\n",
    "***Dense(number_of_nodes, input_dim=number_of_features, activation=function***"
   ]
  },
  {
   "cell_type": "code",
   "execution_count": 10,
   "metadata": {},
   "outputs": [],
   "source": [
    "model = Sequential()\n",
    "model.add(Dense(12, input_dim=8, activation='relu'))\n",
    "model.add(Dense(8, activation='relu'))\n",
    "model.add(Dense(1, activation='sigmoid'))"
   ]
  },
  {
   "cell_type": "markdown",
   "metadata": {},
   "source": [
    "### Compile keras model"
   ]
  },
  {
   "cell_type": "code",
   "execution_count": 11,
   "metadata": {},
   "outputs": [],
   "source": [
    "model.compile(loss='binary_crossentropy', optimizer='adam', metrics=['accuracy'])"
   ]
  },
  {
   "cell_type": "markdown",
   "metadata": {},
   "source": [
    "### Fit keras model"
   ]
  },
  {
   "cell_type": "code",
   "execution_count": 17,
   "metadata": {},
   "outputs": [
    {
     "name": "stdout",
     "output_type": "stream",
     "text": [
      "Epoch 1/150\n",
      "77/77 [==============================] - 1s 9ms/step - loss: 0.4872 - accuracy: 0.7760\n",
      "Epoch 2/150\n",
      "77/77 [==============================] - 1s 9ms/step - loss: 0.4872 - accuracy: 0.7695\n",
      "Epoch 3/150\n",
      "77/77 [==============================] - 1s 9ms/step - loss: 0.4861 - accuracy: 0.7734\n",
      "Epoch 4/150\n",
      "77/77 [==============================] - 1s 10ms/step - loss: 0.4750 - accuracy: 0.7773\n",
      "Epoch 5/150\n",
      "77/77 [==============================] - 1s 10ms/step - loss: 0.4780 - accuracy: 0.7799\n",
      "Epoch 6/150\n",
      "77/77 [==============================] - 1s 8ms/step - loss: 0.4861 - accuracy: 0.7708\n",
      "Epoch 7/150\n",
      "77/77 [==============================] - 1s 7ms/step - loss: 0.4735 - accuracy: 0.7747\n",
      "Epoch 8/150\n",
      "77/77 [==============================] - 1s 9ms/step - loss: 0.4778 - accuracy: 0.7786\n",
      "Epoch 9/150\n",
      "77/77 [==============================] - 1s 10ms/step - loss: 0.4725 - accuracy: 0.7773\n",
      "Epoch 10/150\n",
      "77/77 [==============================] - 1s 11ms/step - loss: 0.4772 - accuracy: 0.7760\n",
      "Epoch 11/150\n",
      "77/77 [==============================] - 1s 11ms/step - loss: 0.5013 - accuracy: 0.7565\n",
      "Epoch 12/150\n",
      "77/77 [==============================] - 1s 9ms/step - loss: 0.4675 - accuracy: 0.7773\n",
      "Epoch 13/150\n",
      "77/77 [==============================] - 1s 9ms/step - loss: 0.4729 - accuracy: 0.7786\n",
      "Epoch 14/150\n",
      "77/77 [==============================] - 1s 8ms/step - loss: 0.4702 - accuracy: 0.7812\n",
      "Epoch 15/150\n",
      "77/77 [==============================] - 1s 7ms/step - loss: 0.4695 - accuracy: 0.7695\n",
      "Epoch 16/150\n",
      "77/77 [==============================] - 1s 11ms/step - loss: 0.4765 - accuracy: 0.7682\n",
      "Epoch 17/150\n",
      "77/77 [==============================] - 1s 9ms/step - loss: 0.4843 - accuracy: 0.7786\n",
      "Epoch 18/150\n",
      "77/77 [==============================] - 1s 11ms/step - loss: 0.4711 - accuracy: 0.7656\n",
      "Epoch 19/150\n",
      "77/77 [==============================] - 1s 10ms/step - loss: 0.4872 - accuracy: 0.7773\n",
      "Epoch 20/150\n",
      "77/77 [==============================] - 1s 9ms/step - loss: 0.4943 - accuracy: 0.7630\n",
      "Epoch 21/150\n",
      "77/77 [==============================] - 1s 10ms/step - loss: 0.4979 - accuracy: 0.7513\n",
      "Epoch 22/150\n",
      "77/77 [==============================] - 1s 11ms/step - loss: 0.4647 - accuracy: 0.7786\n",
      "Epoch 23/150\n",
      "77/77 [==============================] - 1s 9ms/step - loss: 0.4757 - accuracy: 0.7695: 0s - loss: 0.5\n",
      "Epoch 24/150\n",
      "77/77 [==============================] - 1s 9ms/step - loss: 0.4650 - accuracy: 0.7839\n",
      "Epoch 25/150\n",
      "77/77 [==============================] - 1s 10ms/step - loss: 0.4711 - accuracy: 0.7695\n",
      "Epoch 26/150\n",
      "77/77 [==============================] - 1s 9ms/step - loss: 0.4763 - accuracy: 0.7760\n",
      "Epoch 27/150\n",
      "77/77 [==============================] - 1s 10ms/step - loss: 0.4706 - accuracy: 0.7773\n",
      "Epoch 28/150\n",
      "77/77 [==============================] - 1s 10ms/step - loss: 0.4669 - accuracy: 0.7760\n",
      "Epoch 29/150\n",
      "77/77 [==============================] - 1s 10ms/step - loss: 0.4803 - accuracy: 0.7630\n",
      "Epoch 30/150\n",
      "77/77 [==============================] - 1s 10ms/step - loss: 0.4690 - accuracy: 0.7773\n",
      "Epoch 31/150\n",
      "77/77 [==============================] - 1s 10ms/step - loss: 0.4632 - accuracy: 0.7708\n",
      "Epoch 32/150\n",
      "77/77 [==============================] - 1s 10ms/step - loss: 0.4691 - accuracy: 0.7669\n",
      "Epoch 33/150\n",
      "77/77 [==============================] - 1s 9ms/step - loss: 0.4690 - accuracy: 0.7734\n",
      "Epoch 34/150\n",
      "77/77 [==============================] - 1s 9ms/step - loss: 0.4665 - accuracy: 0.7682\n",
      "Epoch 35/150\n",
      "77/77 [==============================] - 1s 11ms/step - loss: 0.4646 - accuracy: 0.7773\n",
      "Epoch 36/150\n",
      "77/77 [==============================] - 1s 13ms/step - loss: 0.4602 - accuracy: 0.7799\n",
      "Epoch 37/150\n",
      "77/77 [==============================] - 1s 9ms/step - loss: 0.4686 - accuracy: 0.7839\n",
      "Epoch 38/150\n",
      "77/77 [==============================] - 1s 10ms/step - loss: 0.4700 - accuracy: 0.7773\n",
      "Epoch 39/150\n",
      "77/77 [==============================] - 1s 10ms/step - loss: 0.4585 - accuracy: 0.7943\n",
      "Epoch 40/150\n",
      "77/77 [==============================] - 1s 10ms/step - loss: 0.4811 - accuracy: 0.7604\n",
      "Epoch 41/150\n",
      "77/77 [==============================] - 1s 11ms/step - loss: 0.4673 - accuracy: 0.7695\n",
      "Epoch 42/150\n",
      "77/77 [==============================] - 1s 19ms/step - loss: 0.4604 - accuracy: 0.7799\n",
      "Epoch 43/150\n",
      "77/77 [==============================] - 1s 12ms/step - loss: 0.4675 - accuracy: 0.7786\n",
      "Epoch 44/150\n",
      "77/77 [==============================] - 1s 11ms/step - loss: 0.4663 - accuracy: 0.7812\n",
      "Epoch 45/150\n",
      "77/77 [==============================] - 1s 8ms/step - loss: 0.4733 - accuracy: 0.7826\n",
      "Epoch 46/150\n",
      "77/77 [==============================] - 1s 9ms/step - loss: 0.4587 - accuracy: 0.7982\n",
      "Epoch 47/150\n",
      "77/77 [==============================] - 1s 10ms/step - loss: 0.4612 - accuracy: 0.7865\n",
      "Epoch 48/150\n",
      "77/77 [==============================] - 1s 8ms/step - loss: 0.4646 - accuracy: 0.7773\n",
      "Epoch 49/150\n",
      "77/77 [==============================] - 1s 12ms/step - loss: 0.4601 - accuracy: 0.7812\n",
      "Epoch 50/150\n",
      "77/77 [==============================] - 1s 10ms/step - loss: 0.4799 - accuracy: 0.7826\n",
      "Epoch 51/150\n",
      "77/77 [==============================] - 1s 14ms/step - loss: 0.4568 - accuracy: 0.7891\n",
      "Epoch 52/150\n",
      "77/77 [==============================] - 1s 12ms/step - loss: 0.4689 - accuracy: 0.7917\n",
      "Epoch 53/150\n",
      "77/77 [==============================] - 1s 11ms/step - loss: 0.4618 - accuracy: 0.7891\n",
      "Epoch 54/150\n",
      "77/77 [==============================] - 1s 9ms/step - loss: 0.4625 - accuracy: 0.7865\n",
      "Epoch 55/150\n",
      "77/77 [==============================] - 1s 8ms/step - loss: 0.4584 - accuracy: 0.7865\n",
      "Epoch 56/150\n",
      "77/77 [==============================] - 1s 9ms/step - loss: 0.4599 - accuracy: 0.7799\n",
      "Epoch 57/150\n",
      "77/77 [==============================] - 1s 10ms/step - loss: 0.4545 - accuracy: 0.7865\n",
      "Epoch 58/150\n",
      "77/77 [==============================] - 1s 13ms/step - loss: 0.4587 - accuracy: 0.7812\n",
      "Epoch 59/150\n",
      "77/77 [==============================] - 1s 12ms/step - loss: 0.4615 - accuracy: 0.7826\n",
      "Epoch 60/150\n",
      "77/77 [==============================] - 1s 10ms/step - loss: 0.4592 - accuracy: 0.7799\n",
      "Epoch 61/150\n",
      "77/77 [==============================] - 1s 10ms/step - loss: 0.4652 - accuracy: 0.7721\n",
      "Epoch 62/150\n",
      "77/77 [==============================] - 1s 10ms/step - loss: 0.4531 - accuracy: 0.7891\n",
      "Epoch 63/150\n",
      "77/77 [==============================] - 1s 13ms/step - loss: 0.4642 - accuracy: 0.7904\n",
      "Epoch 64/150\n",
      "77/77 [==============================] - 1s 11ms/step - loss: 0.4571 - accuracy: 0.7826\n",
      "Epoch 65/150\n",
      "77/77 [==============================] - 1s 11ms/step - loss: 0.4514 - accuracy: 0.7826\n",
      "Epoch 66/150\n",
      "77/77 [==============================] - 1s 10ms/step - loss: 0.4604 - accuracy: 0.7878\n",
      "Epoch 67/150\n",
      "77/77 [==============================] - 1s 10ms/step - loss: 0.4660 - accuracy: 0.7747\n",
      "Epoch 68/150\n",
      "77/77 [==============================] - 1s 11ms/step - loss: 0.4602 - accuracy: 0.7826\n",
      "Epoch 69/150\n",
      "77/77 [==============================] - 1s 11ms/step - loss: 0.4515 - accuracy: 0.7943\n",
      "Epoch 70/150\n",
      "77/77 [==============================] - 1s 10ms/step - loss: 0.4601 - accuracy: 0.7839\n",
      "Epoch 71/150\n",
      "77/77 [==============================] - 1s 13ms/step - loss: 0.4562 - accuracy: 0.7891\n",
      "Epoch 72/150\n",
      "77/77 [==============================] - 1s 13ms/step - loss: 0.4537 - accuracy: 0.7812\n",
      "Epoch 73/150\n",
      "77/77 [==============================] - 1s 13ms/step - loss: 0.4612 - accuracy: 0.7891\n",
      "Epoch 74/150\n",
      "77/77 [==============================] - 1s 13ms/step - loss: 0.4570 - accuracy: 0.7852\n",
      "Epoch 75/150\n",
      "77/77 [==============================] - 1s 13ms/step - loss: 0.4587 - accuracy: 0.7969\n",
      "Epoch 76/150\n",
      "77/77 [==============================] - 1s 12ms/step - loss: 0.4592 - accuracy: 0.7799\n",
      "Epoch 77/150\n",
      "77/77 [==============================] - 1s 12ms/step - loss: 0.4560 - accuracy: 0.7865\n",
      "Epoch 78/150\n",
      "77/77 [==============================] - 1s 11ms/step - loss: 0.4496 - accuracy: 0.7943\n",
      "Epoch 79/150\n",
      "77/77 [==============================] - 1s 14ms/step - loss: 0.4600 - accuracy: 0.7799 0s - loss: 0.4865 - \n",
      "Epoch 80/150\n",
      "77/77 [==============================] - 1s 15ms/step - loss: 0.4709 - accuracy: 0.7760\n",
      "Epoch 81/150\n",
      "77/77 [==============================] - 1s 10ms/step - loss: 0.4576 - accuracy: 0.7773\n",
      "Epoch 82/150\n",
      "77/77 [==============================] - 1s 9ms/step - loss: 0.4532 - accuracy: 0.7891\n",
      "Epoch 83/150\n",
      "77/77 [==============================] - 1s 9ms/step - loss: 0.4589 - accuracy: 0.7799\n",
      "Epoch 84/150\n",
      "77/77 [==============================] - 1s 10ms/step - loss: 0.4569 - accuracy: 0.7891\n",
      "Epoch 85/150\n",
      "77/77 [==============================] - 1s 10ms/step - loss: 0.4591 - accuracy: 0.7773\n",
      "Epoch 86/150\n",
      "77/77 [==============================] - 1s 9ms/step - loss: 0.4529 - accuracy: 0.7917\n",
      "Epoch 87/150\n",
      "77/77 [==============================] - 1s 7ms/step - loss: 0.4640 - accuracy: 0.7734\n",
      "Epoch 88/150\n",
      "77/77 [==============================] - 1s 7ms/step - loss: 0.4415 - accuracy: 0.7943: 0s - loss: 0.5056 \n",
      "Epoch 89/150\n",
      "77/77 [==============================] - 1s 8ms/step - loss: 0.4531 - accuracy: 0.7891\n",
      "Epoch 90/150\n",
      "77/77 [==============================] - 1s 7ms/step - loss: 0.4592 - accuracy: 0.7865\n",
      "Epoch 91/150\n",
      "77/77 [==============================] - 1s 8ms/step - loss: 0.4633 - accuracy: 0.7773\n",
      "Epoch 92/150\n",
      "77/77 [==============================] - 1s 13ms/step - loss: 0.4598 - accuracy: 0.7773\n",
      "Epoch 93/150\n",
      "77/77 [==============================] - 1s 9ms/step - loss: 0.4572 - accuracy: 0.7995\n",
      "Epoch 94/150\n",
      "77/77 [==============================] - 1s 10ms/step - loss: 0.4603 - accuracy: 0.7904\n",
      "Epoch 95/150\n",
      "77/77 [==============================] - 1s 10ms/step - loss: 0.4509 - accuracy: 0.7812\n",
      "Epoch 96/150\n",
      "77/77 [==============================] - 1s 8ms/step - loss: 0.4497 - accuracy: 0.7917\n",
      "Epoch 97/150\n",
      "77/77 [==============================] - 1s 10ms/step - loss: 0.4578 - accuracy: 0.7904\n",
      "Epoch 98/150\n",
      "77/77 [==============================] - 1s 15ms/step - loss: 0.4517 - accuracy: 0.7917\n",
      "Epoch 99/150\n",
      "77/77 [==============================] - 1s 12ms/step - loss: 0.4489 - accuracy: 0.7969\n",
      "Epoch 100/150\n",
      "77/77 [==============================] - 1s 10ms/step - loss: 0.4509 - accuracy: 0.7904\n",
      "Epoch 101/150\n",
      "77/77 [==============================] - 1s 10ms/step - loss: 0.4453 - accuracy: 0.7995\n",
      "Epoch 102/150\n",
      "77/77 [==============================] - 1s 9ms/step - loss: 0.4559 - accuracy: 0.7930\n",
      "Epoch 103/150\n",
      "77/77 [==============================] - 1s 10ms/step - loss: 0.4514 - accuracy: 0.7956\n",
      "Epoch 104/150\n",
      "77/77 [==============================] - 1s 12ms/step - loss: 0.4484 - accuracy: 0.7917\n",
      "Epoch 105/150\n",
      "77/77 [==============================] - 1s 8ms/step - loss: 0.4530 - accuracy: 0.7721\n",
      "Epoch 106/150\n",
      "77/77 [==============================] - 1s 8ms/step - loss: 0.4685 - accuracy: 0.7839\n",
      "Epoch 107/150\n",
      "77/77 [==============================] - 1s 9ms/step - loss: 0.4612 - accuracy: 0.7812\n",
      "Epoch 108/150\n",
      "77/77 [==============================] - 1s 8ms/step - loss: 0.4560 - accuracy: 0.7891\n",
      "Epoch 109/150\n",
      "77/77 [==============================] - 1s 13ms/step - loss: 0.4458 - accuracy: 0.8138\n",
      "Epoch 110/150\n",
      "77/77 [==============================] - 1s 10ms/step - loss: 0.4545 - accuracy: 0.7878\n",
      "Epoch 111/150\n",
      "77/77 [==============================] - 1s 10ms/step - loss: 0.4449 - accuracy: 0.7982\n",
      "Epoch 112/150\n",
      "77/77 [==============================] - 1s 13ms/step - loss: 0.4451 - accuracy: 0.7839\n",
      "Epoch 113/150\n",
      "77/77 [==============================] - 1s 9ms/step - loss: 0.4494 - accuracy: 0.7839\n",
      "Epoch 114/150\n",
      "77/77 [==============================] - 1s 8ms/step - loss: 0.4706 - accuracy: 0.7760\n",
      "Epoch 115/150\n",
      "77/77 [==============================] - 1s 9ms/step - loss: 0.4488 - accuracy: 0.8034\n",
      "Epoch 116/150\n",
      "77/77 [==============================] - 1s 9ms/step - loss: 0.4459 - accuracy: 0.7943\n",
      "Epoch 117/150\n",
      "77/77 [==============================] - 1s 10ms/step - loss: 0.4520 - accuracy: 0.7826\n",
      "Epoch 118/150\n",
      "77/77 [==============================] - 1s 9ms/step - loss: 0.4459 - accuracy: 0.7917\n",
      "Epoch 119/150\n",
      "77/77 [==============================] - 1s 12ms/step - loss: 0.4479 - accuracy: 0.7878\n",
      "Epoch 120/150\n",
      "77/77 [==============================] - 1s 8ms/step - loss: 0.4479 - accuracy: 0.7799\n",
      "Epoch 121/150\n",
      "77/77 [==============================] - 1s 11ms/step - loss: 0.4478 - accuracy: 0.7904\n",
      "Epoch 122/150\n",
      "77/77 [==============================] - 1s 12ms/step - loss: 0.4531 - accuracy: 0.7930\n",
      "Epoch 123/150\n",
      "77/77 [==============================] - 1s 10ms/step - loss: 0.4522 - accuracy: 0.7786\n",
      "Epoch 124/150\n",
      "77/77 [==============================] - 1s 11ms/step - loss: 0.4493 - accuracy: 0.7747\n",
      "Epoch 125/150\n",
      "77/77 [==============================] - 1s 11ms/step - loss: 0.4464 - accuracy: 0.7891 0s - loss: 0.4463 - accuracy: 0.78\n",
      "Epoch 126/150\n",
      "77/77 [==============================] - 1s 8ms/step - loss: 0.4511 - accuracy: 0.7995\n",
      "Epoch 127/150\n",
      "77/77 [==============================] - 1s 10ms/step - loss: 0.4444 - accuracy: 0.7969\n",
      "Epoch 128/150\n",
      "77/77 [==============================] - 1s 11ms/step - loss: 0.4527 - accuracy: 0.7943\n",
      "Epoch 129/150\n",
      "77/77 [==============================] - 1s 10ms/step - loss: 0.4465 - accuracy: 0.7891\n",
      "Epoch 130/150\n",
      "77/77 [==============================] - 1s 10ms/step - loss: 0.4503 - accuracy: 0.7969\n",
      "Epoch 131/150\n",
      "77/77 [==============================] - 1s 11ms/step - loss: 0.4438 - accuracy: 0.7982\n",
      "Epoch 132/150\n",
      "77/77 [==============================] - 1s 10ms/step - loss: 0.4481 - accuracy: 0.7891\n",
      "Epoch 133/150\n",
      "77/77 [==============================] - 1s 10ms/step - loss: 0.4515 - accuracy: 0.7812\n",
      "Epoch 134/150\n",
      "77/77 [==============================] - 1s 8ms/step - loss: 0.4473 - accuracy: 0.7969\n",
      "Epoch 135/150\n",
      "77/77 [==============================] - 1s 10ms/step - loss: 0.4567 - accuracy: 0.7956\n",
      "Epoch 136/150\n",
      "77/77 [==============================] - ETA: 0s - loss: 0.4342 - accuracy: 0.80 - 1s 12ms/step - loss: 0.4405 - accuracy: 0.7969\n",
      "Epoch 137/150\n",
      "77/77 [==============================] - 1s 9ms/step - loss: 0.4393 - accuracy: 0.7982\n",
      "Epoch 138/150\n",
      "77/77 [==============================] - 1s 9ms/step - loss: 0.4294 - accuracy: 0.8034\n",
      "Epoch 139/150\n",
      "77/77 [==============================] - 1s 9ms/step - loss: 0.4406 - accuracy: 0.7917\n",
      "Epoch 140/150\n",
      "77/77 [==============================] - 1s 8ms/step - loss: 0.4427 - accuracy: 0.7956\n",
      "Epoch 141/150\n",
      "77/77 [==============================] - 1s 9ms/step - loss: 0.4438 - accuracy: 0.7943\n",
      "Epoch 142/150\n",
      "77/77 [==============================] - 1s 7ms/step - loss: 0.4600 - accuracy: 0.7852\n",
      "Epoch 143/150\n",
      "77/77 [==============================] - 1s 10ms/step - loss: 0.4491 - accuracy: 0.8060\n",
      "Epoch 144/150\n",
      "77/77 [==============================] - 1s 10ms/step - loss: 0.4392 - accuracy: 0.8008 0s - loss: 0\n",
      "Epoch 145/150\n",
      "77/77 [==============================] - 1s 9ms/step - loss: 0.4519 - accuracy: 0.7630\n",
      "Epoch 146/150\n",
      "77/77 [==============================] - 1s 8ms/step - loss: 0.4369 - accuracy: 0.7969\n",
      "Epoch 147/150\n",
      "77/77 [==============================] - 1s 7ms/step - loss: 0.4491 - accuracy: 0.7760\n",
      "Epoch 148/150\n",
      "77/77 [==============================] - 1s 9ms/step - loss: 0.4476 - accuracy: 0.7865\n",
      "Epoch 149/150\n",
      "77/77 [==============================] - 1s 8ms/step - loss: 0.4392 - accuracy: 0.7904\n",
      "Epoch 150/150\n",
      "77/77 [==============================] - 1s 9ms/step - loss: 0.4495 - accuracy: 0.7760\n"
     ]
    },
    {
     "data": {
      "text/plain": [
       "<tensorflow.python.keras.callbacks.History at 0x7f98047638b0>"
      ]
     },
     "execution_count": 17,
     "metadata": {},
     "output_type": "execute_result"
    }
   ],
   "source": [
    "model.fit(X, y, epochs=150, batch_size=10)\n",
    "#epochs = number of iteractions through the dataset\n",
    "#batch_size = number of dataset rows"
   ]
  },
  {
   "cell_type": "markdown",
   "metadata": {},
   "source": [
    "### Evaluate keras model\n",
    "\n",
    "##### Ideal = loss -> 0 and accuracy -> 100%"
   ]
  },
  {
   "cell_type": "code",
   "execution_count": 18,
   "metadata": {},
   "outputs": [
    {
     "name": "stdout",
     "output_type": "stream",
     "text": [
      "24/24 [==============================] - 0s 12ms/step - loss: 0.4253 - accuracy: 0.8060\n"
     ]
    }
   ],
   "source": [
    "loss_rate, accuracy = model.evaluate(X, y)"
   ]
  },
  {
   "cell_type": "code",
   "execution_count": 19,
   "metadata": {},
   "outputs": [
    {
     "name": "stdout",
     "output_type": "stream",
     "text": [
      "Accuracy: 80.60\n"
     ]
    }
   ],
   "source": [
    "print(f'Accuracy: {accuracy*100:.2f}')"
   ]
  },
  {
   "cell_type": "code",
   "execution_count": 20,
   "metadata": {},
   "outputs": [
    {
     "name": "stdout",
     "output_type": "stream",
     "text": [
      "Loss Rate: 42.53\n"
     ]
    }
   ],
   "source": [
    "print(f'Loss Rate: {loss_rate*100:.2f}')"
   ]
  },
  {
   "cell_type": "markdown",
   "metadata": {},
   "source": [
    "### Make predictions"
   ]
  },
  {
   "cell_type": "code",
   "execution_count": 22,
   "metadata": {},
   "outputs": [],
   "source": [
    "predictions = model.predict(X)"
   ]
  },
  {
   "cell_type": "code",
   "execution_count": 23,
   "metadata": {},
   "outputs": [
    {
     "name": "stdout",
     "output_type": "stream",
     "text": [
      "[6.0, 148.0, 72.0, 35.0, 0.0, 33.6, 0.627, 50.0] => [0.59573245] (expected 1.0)\n",
      "[1.0, 85.0, 66.0, 29.0, 0.0, 26.6, 0.351, 31.0] => [0.08988166] (expected 0.0)\n",
      "[8.0, 183.0, 64.0, 0.0, 0.0, 23.3, 0.672, 32.0] => [0.7357706] (expected 1.0)\n",
      "[1.0, 89.0, 66.0, 23.0, 94.0, 28.1, 0.167, 21.0] => [0.09625959] (expected 0.0)\n",
      "[0.0, 137.0, 40.0, 35.0, 168.0, 43.1, 2.288, 33.0] => [0.5152641] (expected 1.0)\n"
     ]
    }
   ],
   "source": [
    "for i in range(5):\n",
    "    print(f'{X[i].tolist()} => {predictions[i]} (expected {y[i]})')"
   ]
  },
  {
   "cell_type": "code",
   "execution_count": null,
   "metadata": {},
   "outputs": [],
   "source": []
  }
 ],
 "metadata": {
  "kernelspec": {
   "display_name": "Python 3",
   "language": "python",
   "name": "python3"
  },
  "language_info": {
   "codemirror_mode": {
    "name": "ipython",
    "version": 3
   },
   "file_extension": ".py",
   "mimetype": "text/x-python",
   "name": "python",
   "nbconvert_exporter": "python",
   "pygments_lexer": "ipython3",
   "version": "3.8.5"
  }
 },
 "nbformat": 4,
 "nbformat_minor": 4
}
