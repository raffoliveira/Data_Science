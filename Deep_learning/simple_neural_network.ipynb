{
 "cells": [
  {
   "cell_type": "markdown",
   "metadata": {},
   "source": [
    "### As the output is given this model is a supervised learning "
   ]
  },
  {
   "cell_type": "code",
   "execution_count": 1,
   "metadata": {},
   "outputs": [],
   "source": [
    "import numpy as np\n",
    "from sklearn.preprocessing import MinMaxScaler\n",
    "import matplotlib.pyplot as plt"
   ]
  },
  {
   "cell_type": "markdown",
   "metadata": {},
   "source": [
    "### Create data"
   ]
  },
  {
   "cell_type": "code",
   "execution_count": 2,
   "metadata": {},
   "outputs": [],
   "source": [
    "input_train = np.array([[0, 1, 0], [0, 1, 1], [0, 0, 0], \n",
    "                        [10, 0, 0], [10, 1, 1], [10, 0, 1]])\n",
    "output_train = np.array([[0], [0], [0], [1], [1], [1]])\n",
    "input_pred = np.array([1, 1, 0])\n",
    "\n",
    "input_test = np.array([[1, 1, 1], [10, 0, 1], [0, 1, 10], \n",
    "                       [10, 1, 10], [0, 0, 0], [0, 1, 1]])\n",
    "output_test = np.array([[0], [1], [0], [1], [0], [0]])\n"
   ]
  },
  {
   "cell_type": "markdown",
   "metadata": {},
   "source": [
    "### Scale data"
   ]
  },
  {
   "cell_type": "code",
   "execution_count": 3,
   "metadata": {},
   "outputs": [],
   "source": [
    "scaler = MinMaxScaler()\n",
    "input_train_scaled = scaler.fit_transform(input_train)\n",
    "output_train_scaled = scaler.fit_transform(output_train)\n",
    "input_test_scaled = scaler.fit_transform(input_test)\n",
    "output_test_scaled = scaler.fit_transform(output_test)"
   ]
  },
  {
   "cell_type": "markdown",
   "metadata": {},
   "source": [
    "### Create a neural network class"
   ]
  },
  {
   "cell_type": "code",
   "execution_count": 5,
   "metadata": {},
   "outputs": [],
   "source": [
    "class NeuralNetwork():\n",
    "    def __init__(self, ): #define the layers\n",
    "        self.inputSize = 3\n",
    "        self.outputSize = 1\n",
    "        self.hiddenSize = 3\n",
    "\n",
    "        self.W1 = np.random.rand(self.inputSize, self.hiddenSize)\n",
    "        self.W2 = np.random.rand(self.hiddenSize, self.outputSize)\n",
    "\n",
    "        self.error_list = []\n",
    "        self.limit = 0.5\n",
    "        self.true_positives = 0\n",
    "        self.false_positives = 0\n",
    "        self.true_negatives = 0\n",
    "        self.false_negatives = 0\n",
    "\n",
    "    def forward(self, X):\n",
    "        self.z = np.matmul(X, self.W1)\n",
    "        self.z2 = self.sigmoid(self.z)\n",
    "        self.z3 = np.matmul(self.z2, self.W2)\n",
    "        o = self.sigmoid(self.z3)\n",
    "        return o\n",
    "\n",
    "    def sigmoid(self, s):\n",
    "        return 1 / (1 + np.exp(-s))\n",
    "\n",
    "    def sigmoidPrime(self, s):\n",
    "        return s * (1 - s)\n",
    "\n",
    "    def backward(self, X, y, o):\n",
    "        self.o_error = y - o\n",
    "        self.o_delta = self.o_error * self.sigmoidPrime(o)\n",
    "        self.z2_error = np.matmul(self.o_delta,\n",
    "                                  np.matrix.transpose(self.W2))\n",
    "        self.z2_delta = self.z2_error * self.sigmoidPrime(self.z2)\n",
    "        self.W1 += np.matmul(np.matrix.transpose(X), self.z2_delta)\n",
    "        self.W2 += np.matmul(np.matrix.transpose(self.z2),\n",
    "                             self.o_delta)\n",
    "\n",
    "    def train(self, X, y, epochs):\n",
    "        for epoch in range(epochs):\n",
    "            o = self.forward(X)\n",
    "            self.backward(X, y, o)\n",
    "            self.error_list.append(np.abs(self.o_error).mean())\n",
    "\n",
    "    def predict(self, x_predicted):\n",
    "        return self.forward(x_predicted).item()\n",
    "\n",
    "    def view_error_development(self):\n",
    "        plt.plot(range(len(self.error_list)), self.error_list)\n",
    "        plt.title('Mean Sum Squared Loss')\n",
    "        plt.xlabel('Epoch')\n",
    "        plt.ylabel('Loss')\n",
    "\n",
    "    def test_evaluation(self, input_test, output_test):\n",
    "        for i, test_element in enumerate(input_test):\n",
    "            if self.predict(test_element) > self.limit and \\\n",
    "                    output_test[i] == 1:\n",
    "                self.true_positives += 1\n",
    "            if self.predict(test_element) < self.limit and \\\n",
    "                    output_test[i] == 1:\n",
    "                self.false_negatives += 1\n",
    "            if self.predict(test_element) > self.limit and \\\n",
    "                    output_test[i] == 0:\n",
    "                self.false_positives += 1\n",
    "            if self.predict(test_element) < self.limit and \\\n",
    "                    output_test[i] == 0:\n",
    "                self.true_negatives += 1\n",
    "        print('True positives: ', self.true_positives,\n",
    "              '\\nTrue negatives: ', self.true_negatives,\n",
    "              '\\nFalse positives: ', self.false_positives,\n",
    "              '\\nFalse negatives: ', self.false_negatives,\n",
    "              '\\nAccuracy: ',\n",
    "              (self.true_positives + self.true_negatives) /\n",
    "              (self.true_positives + self.true_negatives +\n",
    "               self.false_positives + self.false_negatives))"
   ]
  },
  {
   "cell_type": "code",
   "execution_count": 7,
   "metadata": {},
   "outputs": [
    {
     "name": "stdout",
     "output_type": "stream",
     "text": [
      "True positives:  2 \n",
      "True negatives:  4 \n",
      "False positives:  0 \n",
      "False negatives:  0 \n",
      "Accuracy:  1.0\n"
     ]
    },
    {
     "data": {
      "image/png": "[encoded data removed]",
      "text/plain": [
       "<Figure size 432x288 with 1 Axes>"
      ]
     },
     "metadata": {
      "needs_background": "light"
     },
     "output_type": "display_data"
    }
   ],
   "source": [
    "NN = NeuralNetwork()\n",
    "NN.train(input_train_scaled, output_train_scaled, 500)\n",
    "NN.predict(input_pred)\n",
    "NN.view_error_development()\n",
    "NN.test_evaluation(input_test_scaled, output_test_scaled)"
   ]
  },
  {
   "cell_type": "code",
   "execution_count": null,
   "metadata": {},
   "outputs": [],
   "source": []
  }
 ],
 "metadata": {
  "kernelspec": {
   "display_name": "Python 3",
   "language": "python",
   "name": "python3"
  },
  "language_info": {
   "codemirror_mode": {
    "name": "ipython",
    "version": 3
   },
   "file_extension": ".py",
   "mimetype": "text/x-python",
   "name": "python",
   "nbconvert_exporter": "python",
   "pygments_lexer": "ipython3",
   "version": "3.8.5"
  }
 },
 "nbformat": 4,
 "nbformat_minor": 4
}
