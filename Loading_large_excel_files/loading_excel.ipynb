{
 "cells": [
  {
   "cell_type": "markdown",
   "metadata": {},
   "source": [
    "import os, datetime, namegenerator, openpyxl\n",
    "import numpy as np\n",
    "import pandas as pd\n"
   ]
  },
  {
   "cell_type": "markdown",
   "metadata": {},
   "source": [
    "## Generate a dataframe of random values:"
   ]
  },
  {
   "cell_type": "code",
   "execution_count": null,
   "metadata": {},
   "outputs": [],
   "source": [
    "def random_dates(start=None, end=None, n=1, unit='D', seed=None):\n",
    "    \n",
    "    \"\"\"A function which produces random dates\"\"\"\n",
    "    if not seed:  # from piR's answer\n",
    "        np.random.seed(0)\n",
    "    if not start:\n",
    "        start = datetime.datetime(2020,6,1)\n",
    "    if not end:\n",
    "        end = datetime.datetime.now()\n",
    "        \n",
    "    ndays = (end - start).days + 1\n",
    "    \n",
    "    return pd.to_timedelta(np.random.rand(n) * ndays, unit=unit) + start"
   ]
  },
  {
   "cell_type": "code",
   "execution_count": null,
   "metadata": {},
   "outputs": [],
   "source": [
    "# Choose the size of your data\n",
    "n_rows = int(1.50 * 10**6)\n",
    "n_cols = 7\n",
    "\n",
    "# Create your dataframe – Mix up the data bit\n",
    "df = pd.DataFrame(np.random.rand(n_rows,n_cols), columns=[f\"Col_{i}\" for i in range(1,n_cols+1)])\n",
    "df[\"name\"] = df.apply(lambda x: namegenerator.gen(), axis=1)\n",
    "df[\"timestamp_1\"] = random_dates(n=n_rows, seed=1)\n",
    "df[\"timestamp_2\"] = random_dates(n=n_rows, seed=2)\n",
    "\n",
    "# How big we talking about?\n",
    "print(f\"{len(df):,} rows\\n{len(df.columns):,} cols\")"
   ]
  },
  {
   "cell_type": "markdown",
   "metadata": {},
   "source": [
    "## Save data to an excel file:"
   ]
  },
  {
   "cell_type": "code",
   "execution_count": null,
   "metadata": {},
   "outputs": [],
   "source": [
    "# Where do you want the file?\n",
    "f_path = \"my_ridiculous_excel_file.xlsx\"\n",
    "\n",
    "# Create a workbook & a sheet\n",
    "wb = openpyxl.Workbook(write_only=True)\n",
    "ws = wb.create_sheet(\"Sheet1\")\n",
    "\n",
    "# Operate rowwise\n",
    "rows = openpyxl.utils.dataframe.dataframe_to_rows(df)\n",
    "\n",
    "for i,row in enumerate(rows):\n",
    "    ws.append(row)\n",
    "\n",
    "# Now save\n",
    "wb.save(f_path)"
   ]
  },
  {
   "cell_type": "markdown",
   "metadata": {},
   "source": [
    "## How large are we talking about?"
   ]
  },
  {
   "cell_type": "code",
   "execution_count": null,
   "metadata": {},
   "outputs": [],
   "source": [
    "os.path.getsize(f_path)"
   ]
  },
  {
   "cell_type": "markdown",
   "metadata": {},
   "source": [
    "## Load Ridiculously Large Excel File — With Pandas\n",
    "## engine = openpyxl"
   ]
  },
  {
   "cell_type": "code",
   "execution_count": null,
   "metadata": {},
   "outputs": [],
   "source": [
    "data_path = \"data/my_excel_file.xls\"\n",
    "df = pd.read_excel(data_path, index_col=0, engine=\"openpyxl\")"
   ]
  },
  {
   "cell_type": "markdown",
   "metadata": {},
   "source": [
    "## Load Ridiculously Large Excel File — With Pandas\n",
    "## Engine = xlrd"
   ]
  },
  {
   "cell_type": "code",
   "execution_count": null,
   "metadata": {},
   "outputs": [],
   "source": [
    "data_path = \"data/my_excel_file.xls\"\n",
    "df = pd.read_excel(data_path, index_col=0, engine=\"xlrd\")"
   ]
  },
  {
   "cell_type": "markdown",
   "metadata": {},
   "source": [
    "## Load with Openpyxl\n",
    "## Load sheet directly"
   ]
  },
  {
   "cell_type": "code",
   "execution_count": null,
   "metadata": {},
   "outputs": [],
   "source": [
    "wb = openpyxl.load_workbook(filename=data_path, read_only=True)\n",
    "ws = wb.active\n",
    "# Convert to a df\n",
    "df = pd.DataFrame(ws)"
   ]
  },
  {
   "cell_type": "markdown",
   "metadata": {},
   "source": [
    "## Load with Openpyxl\n",
    "## Load as generator"
   ]
  },
  {
   "cell_type": "code",
   "execution_count": null,
   "metadata": {},
   "outputs": [],
   "source": [
    "wb = openpyxl.load_workbook(filename=data_path, read_only=True)\n",
    "ws = wb.active\n",
    "# Load the rows\n",
    "rows = ws.rows\n",
    "first_row = [cell.value for cell in next(rows)]\n",
    "# Load the data\n",
    "data = []\n",
    "for row in rows:\n",
    "    record = {}\n",
    "    for key, cell in zip(first_row, row):\n",
    "        record[key] = cell.value\n",
    "    data.append(record)\n",
    "# Convert to a df\n",
    "df = pd.DataFrame(data)"
   ]
  }
 ],
 "metadata": {
  "kernelspec": {
   "display_name": "Python 3.6.9 64-bit",
   "language": "python",
   "name": "python36964bit37a3638b8eef42a99723d3709aee69aa"
  },
  "language_info": {
   "codemirror_mode": {
    "name": "ipython",
    "version": 3
   },
   "file_extension": ".py",
   "mimetype": "text/x-python",
   "name": "python",
   "nbconvert_exporter": "python",
   "pygments_lexer": "ipython3",
   "version": "3.6.9"
  }
 },
 "nbformat": 4,
 "nbformat_minor": 4
}
