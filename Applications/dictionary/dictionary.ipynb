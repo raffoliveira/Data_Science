{
 "cells": [
  {
   "cell_type": "code",
   "execution_count": 3,
   "metadata": {},
   "outputs": [],
   "source": [
    "import json\n",
    "from difflib import get_close_matches"
   ]
  },
  {
   "cell_type": "code",
   "execution_count": 7,
   "metadata": {},
   "outputs": [],
   "source": [
    "def translate(w):\n",
    "    data = json.load(open('dictionary.json'))\n",
    "    w = w.lower()\n",
    "    \n",
    "    if w in data:\n",
    "        return data[w]\n",
    "    \n",
    "    #for getting close matches of word\n",
    "    elif len(get_close_matches(w, data.keys())) > 0:\n",
    "        yn = input(\"Did you mean %s instead? Enter Y if yes, or N if no: \" % get_close_matches(w, data.keys())[0])\n",
    "        yn = yn.lower()\n",
    "        if yn == 'y':\n",
    "            return data[get_close_matches(w, data.keys())[0]]\n",
    "        elif yn == 'n':\n",
    "            return 'The word doesn\\'t exist. Please double check it.'\n",
    "        else:\n",
    "            return 'We didn\\'t understand you entry.'\n",
    "    else:\n",
    "        return 'The word doesn\\'t exist. Please double check it.'\n",
    "\n",
    "\n",
    "        "
   ]
  },
  {
   "cell_type": "code",
   "execution_count": 9,
   "metadata": {},
   "outputs": [
    {
     "name": "stdin",
     "output_type": "stream",
     "text": [
      "Enter word:  love\n"
     ]
    },
    {
     "name": "stdout",
     "output_type": "stream",
     "text": [
      "1. A feeling of strong attachment induced by that which delights or commands admiration; preëminent kindness or devotion to another; affection; tenderness; as, the love of brothers and sisters. Of all the dearest bonds we prove Thou countest sons' and mothers' love Most sacred, most Thine own. Keble. 2. Especially, devoted attachment to, or tender or passionate affection for, one of the opposite sex. He on his side Leaning half-raised, with looks of cordial love Hung over her enamored. Milton. 3. Courtship; -- chiefly in the phrase to make love, i. e., to court, to woo, to solicit union in marriage. Demetrius . . . Made love to Nedar's daughter, Helena, And won her soul. Shak. 4. Affection; kind feeling; friendship; strong liking or desire; fondness; good will; -- opposed to hate; often with of and an object. Love, and health to all. Shak. Smit with the love of sacred song. Milton. The love of science faintly warmed his breast. Fenton. 5. Due gratitude and reverence to God. Keep yourselves in the love of God. Jude 21. 6. The object of affection; -- often employed in endearing address. \"Trust me, love.\" Dryden. Open the temple gates unto my love. Spenser. 7. Cupid, the god of love; sometimes, Venus. Such was his form as painters, when they show Their utmost art, on naked Lores bestow. Dryden. Therefore do nimble-pinioned doves draw Love. Shak. 8. A thin silk stuff. [Obs.] Boyle. 9. (Bot.)  A climbing species of Clematis (C. Vitalba). 10. Nothing; no points scored on one side; -- used in counting score at tennis, etc. He won the match by three sets to love. The Field. Note: Love is often used in the formation of compounds, in most of which the meaning is very obvious; as, love-cracked, love-darting, love-killing, love-linked, love-taught, etc. A labor of love, a labor undertaken on account of regard for some person, or through pleasure in the work itself, without expectation of reward. -- Free love, the doctrine or practice of consorting with one of the opposite sex, at pleasure, without marriage. See Free love. -- Free lover, one who avows or practices free love. -- In love, in the act of loving; -- said esp. of the love of the sexes; as, to be in love; to fall in love. -- Love apple (Bot.), the tomato. -- Love bird (Zoöl.), any one of several species of small, short- tailed parrots, or parrakeets, of the genus Agapornis, and allied genera. They are mostly from Africa. Some species are often kept as cage birds, and are celebrated for the affection which they show for their mates. -- Love broker, a person who for pay acts as agent between lovers, or as a go-between in a sexual intrigue. Shak. -- Love charm, a charm for exciting love. Ld. Lytton. -- Love child. an illegitimate child. Jane Austen. -- Love day, a day formerly appointed for an amicable adjustment of differences. [Obs.] Piers Plowman. Chaucer. -- Love drink, a love potion; a philter. Chaucer. -- Love favor, something given to be worn in token of love. -- Love feast, a religious festival, held quarterly by some religious denominations, as the Moravians and Methodists, in imitation of the agapæ of the early Christians. -- Love feat, the gallant act of a lover. Shak. -- Love game, a game, as in tennis, in which the vanquished person or party does not score a point. -- Love grass. Etym: [G. liebesgras.] (Bot.) Any grass of the genus Eragrostis. -- Love-in-a-mist. (Bot.) (a) An herb of the Buttercup family (Nigella Damascena) having the flowers hidden in a maze of finely cut bracts. (b) The West Indian Passiflora foetida, which has similar bracts. -- Love-in-idleness (Bot.), a kind of violet; the small pansy. A little western flower, Before milk-white, now purple with love's wound; And maidens call it love-in-idleness. Shak. -- Love juice, juice of a plant supposed to produce love. Shak. -- Love knot, a knot or bow, as of ribbon; -- so called from being used as a token of love, or as a pledge of mutual affection. Milman. -- Love lass, a sweetheart. -- Love letter, a letter of courtship. Shak. -- Love-lies-bleeding (Bot.), a species of amaranth (Amarantus melancholicus). -- Love match, a marriage brought about by love alone. -- Love potion, a compounded draught intended to excite love, or venereal desire. -- Love rites, sexual intercourse. Pope -- Love scene, an exhibition of love, as between lovers on the stage. -- Love suit, courtship. Shak. -- Of all loves, for the sake of all love; by all means. [Obs.] \"Mrs. Arden desired him of all loves to come back again.\" Holinshed. -- The god of love, or Love god, Cupid. -- To make love to, to express affection for; to woo. \"If you will marry, make your loves to me.\" Shak. -- To play for love, to play a game, as at cards, without stakes. \"A game at piquet for love.\" Lamb. Syn. -- Affection; friendship; kindness; tenderness; fondness; delight.\n",
      "\n",
      "1. To have a feeling of love for; to regard with affection or good will; as, to love one's children and friends; to love one's country; to love one's God. Thou shalt love the Lord thy God with all thy heart, and with all thy soul, and with all thy mind. Matt. xxii. 37. Thou shalt love thy neighbor as thy self. Matt. xxii. 39. 2. To regard with passionate and devoted affection, as that of one sex for the other. 3. To take delight or pleasure in; to have a strong liking or desire for, or interest in; to be pleased with; to like; as, to love books; to love adventures. Wit, eloquence, and poetry. Arts which I loved. Cowley.\n",
      "\n",
      "To have the feeling of love; to be in love.\n"
     ]
    },
    {
     "name": "stdin",
     "output_type": "stream",
     "text": [
      "Press ENTER to exit \n"
     ]
    },
    {
     "data": {
      "text/plain": [
       "''"
      ]
     },
     "execution_count": 9,
     "metadata": {},
     "output_type": "execute_result"
    }
   ],
   "source": [
    "word = input('Enter word: ')\n",
    "output = translate(word)\n",
    "\n",
    "if type(output) == list:\n",
    "    for item in output:\n",
    "        print(item)\n",
    "else:\n",
    "    print(output)\n",
    "input('Press ENTER to exit')"
   ]
  },
  {
   "cell_type": "code",
   "execution_count": null,
   "metadata": {},
   "outputs": [],
   "source": []
  }
 ],
 "metadata": {
  "kernelspec": {
   "display_name": "Python 3.6.9 64-bit",
   "language": "python",
   "name": "python36964bit37a3638b8eef42a99723d3709aee69aa"
  },
  "language_info": {
   "codemirror_mode": {
    "name": "ipython",
    "version": 3
   },
   "file_extension": ".py",
   "mimetype": "text/x-python",
   "name": "python",
   "nbconvert_exporter": "python",
   "pygments_lexer": "ipython3",
   "version": "3.6.9"
  }
 },
 "nbformat": 4,
 "nbformat_minor": 4
}
